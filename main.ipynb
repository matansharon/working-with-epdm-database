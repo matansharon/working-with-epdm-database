{
 "cells": [
  {
   "cell_type": "code",
   "execution_count": 2,
   "metadata": {},
   "outputs": [],
   "source": [
    "import pandas as pd\n",
    "import numpy as np\n",
    "import pymssql\n",
    "import pyodbc"
   ]
  },
  {
   "cell_type": "code",
   "execution_count": 3,
   "metadata": {},
   "outputs": [],
   "source": [
    "mssql_conn = pymssql.connect(server='epdm', user='sa', password='Pdmepdme1!',database='ePDM_Elcam')\n",
    "odbc_conn = pyodbc.connect('Driver={IBM i Access ODBC Driver}; '\n",
    "       'SYSTEM = 192.168.0.161;'\n",
    "        'Hostname=M3; '\n",
    "        'Port=21; '\n",
    "        'Protocol=TCPIP; '\n",
    "        'Database=M3; '\n",
    "        'UID=pud; '\n",
    "        'PWD = Pud142;'\n",
    "        ,autocommit=True)"
   ]
  },
  {
   "cell_type": "code",
   "execution_count": 17,
   "metadata": {},
   "outputs": [
    {
     "name": "stderr",
     "output_type": "stream",
     "text": [
      "c:\\Users\\matan.s\\Anaconda3\\lib\\site-packages\\pandas\\io\\sql.py:762: UserWarning: pandas only support SQLAlchemy connectable(engine/connection) ordatabase string URI or sqlite3 DBAPI2 connectionother DBAPI2 objects are not tested, please consider using SQLAlchemy\n",
      "  warnings.warn(\n",
      "c:\\Users\\matan.s\\Anaconda3\\lib\\site-packages\\pandas\\io\\sql.py:762: UserWarning: pandas only support SQLAlchemy connectable(engine/connection) ordatabase string URI or sqlite3 DBAPI2 connectionother DBAPI2 objects are not tested, please consider using SQLAlchemy\n",
      "  warnings.warn(\n"
     ]
    },
    {
     "data": {
      "text/plain": [
       "False"
      ]
     },
     "execution_count": 17,
     "metadata": {},
     "output_type": "execute_result"
    }
   ],
   "source": [
    "#test connection\n",
    "query='SELECT Filename, LockPath, LockDomain, LockDate, Username,FullName, Email from [ePDM_Elcam].[dbo].[Documents] INNER JOIN [ePDM_Elcam].[dbo].[Users] on [ePDM_Elcam].[dbo].[Documents].UserID = [ePDM_Elcam].[dbo].[Users].UserID WHERE LockDate IS NOT NULL AND CurrentStatusid IS NOT NULL AND Deleted=0 ORDER BY Username ASC'\n",
    "query2='SELECT distinct(MMITNO) FROM M3FDBPRD.MITMAS m '\n",
    "all_items=pd.read_sql(query2,odbc_conn)\n",
    "files = pd.read_sql(query, mssql_conn)\n",
    "files.sort_values(by='LockDate', ascending=False, inplace=True)\n",
    "#find if item number '015495DOL      ' is in the list of all items\n",
    "all_items_dic={}\n",
    "for i in range(len(all_items)):\n",
    "    row=all_items.iloc[i]\n",
    "    all_items_dic[row['MMITNO'].strip()]=1\n",
    "all_items=all_items_dic\n",
    "\n",
    "\n"
   ]
  },
  {
   "cell_type": "code",
   "execution_count": 7,
   "metadata": {},
   "outputs": [
    {
     "data": {
      "text/html": [
       "<div>\n",
       "<style scoped>\n",
       "    .dataframe tbody tr th:only-of-type {\n",
       "        vertical-align: middle;\n",
       "    }\n",
       "\n",
       "    .dataframe tbody tr th {\n",
       "        vertical-align: top;\n",
       "    }\n",
       "\n",
       "    .dataframe thead th {\n",
       "        text-align: right;\n",
       "    }\n",
       "</style>\n",
       "<table border=\"1\" class=\"dataframe\">\n",
       "  <thead>\n",
       "    <tr style=\"text-align: right;\">\n",
       "      <th></th>\n",
       "      <th>username</th>\n",
       "      <th>fullname</th>\n",
       "      <th>email</th>\n",
       "      <th>count_files</th>\n",
       "    </tr>\n",
       "  </thead>\n",
       "  <tbody>\n",
       "    <tr>\n",
       "      <th>0</th>\n",
       "      <td>hen.b</td>\n",
       "      <td>Hen Balik</td>\n",
       "      <td>hen.b@elcam.co.il</td>\n",
       "      <td>118</td>\n",
       "    </tr>\n",
       "    <tr>\n",
       "      <th>1</th>\n",
       "      <td>ayelet.ts</td>\n",
       "      <td>Ayelet Tal Shahar</td>\n",
       "      <td>ayelet.ts@elcam.co.il</td>\n",
       "      <td>54</td>\n",
       "    </tr>\n",
       "    <tr>\n",
       "      <th>2</th>\n",
       "      <td>galei</td>\n",
       "      <td>Gal Einhorn</td>\n",
       "      <td>galei@elcam.co.il</td>\n",
       "      <td>47</td>\n",
       "    </tr>\n",
       "    <tr>\n",
       "      <th>3</th>\n",
       "      <td>dima.a</td>\n",
       "      <td>Dima Ali</td>\n",
       "      <td>dima.a@elcam.co.il</td>\n",
       "      <td>28</td>\n",
       "    </tr>\n",
       "    <tr>\n",
       "      <th>4</th>\n",
       "      <td>yair.e</td>\n",
       "      <td>Yair Elbaz</td>\n",
       "      <td>yair.e@elcam.co.il</td>\n",
       "      <td>27</td>\n",
       "    </tr>\n",
       "    <tr>\n",
       "      <th>...</th>\n",
       "      <td>...</td>\n",
       "      <td>...</td>\n",
       "      <td>...</td>\n",
       "      <td>...</td>\n",
       "    </tr>\n",
       "    <tr>\n",
       "      <th>63</th>\n",
       "      <td>vanya.d</td>\n",
       "      <td>Vanya Dobrovolsky</td>\n",
       "      <td>vanya.d@elcam.co.il</td>\n",
       "      <td>1</td>\n",
       "    </tr>\n",
       "    <tr>\n",
       "      <th>64</th>\n",
       "      <td>yuval.s</td>\n",
       "      <td>Yuval Shapiro</td>\n",
       "      <td>shapiro@qwvalue.com</td>\n",
       "      <td>1</td>\n",
       "    </tr>\n",
       "    <tr>\n",
       "      <th>65</th>\n",
       "      <td>Admin</td>\n",
       "      <td>Admin</td>\n",
       "      <td>matan.s@elcam.co.il</td>\n",
       "      <td>1</td>\n",
       "    </tr>\n",
       "    <tr>\n",
       "      <th>66</th>\n",
       "      <td>rami.a</td>\n",
       "      <td>Rami Ayoub</td>\n",
       "      <td>rami.a@elcam.co.il</td>\n",
       "      <td>1</td>\n",
       "    </tr>\n",
       "    <tr>\n",
       "      <th>67</th>\n",
       "      <td>iryna.c</td>\n",
       "      <td>Iryna Chikhirina</td>\n",
       "      <td>iryna.c@elcam.co.il</td>\n",
       "      <td>1</td>\n",
       "    </tr>\n",
       "  </tbody>\n",
       "</table>\n",
       "<p>68 rows × 4 columns</p>\n",
       "</div>"
      ],
      "text/plain": [
       "     username           fullname                  email  count_files\n",
       "0       hen.b          Hen Balik      hen.b@elcam.co.il          118\n",
       "1   ayelet.ts  Ayelet Tal Shahar  ayelet.ts@elcam.co.il           54\n",
       "2       galei        Gal Einhorn      galei@elcam.co.il           47\n",
       "3      dima.a           Dima Ali     dima.a@elcam.co.il           28\n",
       "4      yair.e         Yair Elbaz     yair.e@elcam.co.il           27\n",
       "..        ...                ...                    ...          ...\n",
       "63    vanya.d  Vanya Dobrovolsky    vanya.d@elcam.co.il            1\n",
       "64    yuval.s      Yuval Shapiro    shapiro@qwvalue.com            1\n",
       "65      Admin              Admin    matan.s@elcam.co.il            1\n",
       "66     rami.a         Rami Ayoub     rami.a@elcam.co.il            1\n",
       "67    iryna.c   Iryna Chikhirina    iryna.c@elcam.co.il            1\n",
       "\n",
       "[68 rows x 4 columns]"
      ]
     },
     "execution_count": 7,
     "metadata": {},
     "output_type": "execute_result"
    }
   ],
   "source": [
    "\n",
    "res ={}\n",
    "for i in range(len(files)):\n",
    "    row=files.iloc[i]\n",
    "    if row['Username'] not in res:\n",
    "        res[row['Username']] ={'email':row['Email'],'fullname':row['FullName'],'count':0}\n",
    "    res[row['Username']]['count']+=1\n",
    "#sort by count\n",
    "res = sorted(res.items(), key=lambda x: x[1]['count'], reverse=True)\n",
    "username=[]\n",
    "fullname=[]\n",
    "email=[]\n",
    "count_files=[]\n",
    "for k in res:\n",
    "    # print(k)\n",
    "    username.append(k[0])\n",
    "    fullname.append(k[1]['fullname'])\n",
    "    email.append(k[1]['email'])\n",
    "    count_files.append(k[1]['count'])\n",
    "df = pd.DataFrame({'username':username,'fullname':fullname,'email':email,'count_files':count_files})\n",
    "df\n",
    "\n"
   ]
  },
  {
   "cell_type": "code",
   "execution_count": 9,
   "metadata": {},
   "outputs": [
    {
     "data": {
      "text/html": [
       "<div>\n",
       "<style scoped>\n",
       "    .dataframe tbody tr th:only-of-type {\n",
       "        vertical-align: middle;\n",
       "    }\n",
       "\n",
       "    .dataframe tbody tr th {\n",
       "        vertical-align: top;\n",
       "    }\n",
       "\n",
       "    .dataframe thead th {\n",
       "        text-align: right;\n",
       "    }\n",
       "</style>\n",
       "<table border=\"1\" class=\"dataframe\">\n",
       "  <thead>\n",
       "    <tr style=\"text-align: right;\">\n",
       "      <th></th>\n",
       "      <th>DisplayName</th>\n",
       "      <th>EmailAddress</th>\n",
       "      <th>ManagerEmail</th>\n",
       "    </tr>\n",
       "  </thead>\n",
       "  <tbody>\n",
       "    <tr>\n",
       "      <th>707</th>\n",
       "      <td>Vanya Dobrovolsky</td>\n",
       "      <td>vanya.d@elcam.co.il</td>\n",
       "      <td>amotz@elcam.co.il</td>\n",
       "    </tr>\n",
       "    <tr>\n",
       "      <th>755</th>\n",
       "      <td>Idan Naaman</td>\n",
       "      <td>idan.n@elcam.co.il</td>\n",
       "      <td>amotz@elcam.co.il</td>\n",
       "    </tr>\n",
       "    <tr>\n",
       "      <th>922</th>\n",
       "      <td>Ilan Kachler</td>\n",
       "      <td>ilan.k@elcam.co.il</td>\n",
       "      <td>amotz@elcam.co.il</td>\n",
       "    </tr>\n",
       "    <tr>\n",
       "      <th>938</th>\n",
       "      <td>Oded Benedik</td>\n",
       "      <td>oded.b@elcam.co.il</td>\n",
       "      <td>amotz@elcam.co.il</td>\n",
       "    </tr>\n",
       "    <tr>\n",
       "      <th>1116</th>\n",
       "      <td>Ziv Cohen</td>\n",
       "      <td>ziv.c@elcam.co.il</td>\n",
       "      <td>amotz@elcam.co.il</td>\n",
       "    </tr>\n",
       "    <tr>\n",
       "      <th>1207</th>\n",
       "      <td>Ohad Gottesman</td>\n",
       "      <td>ohad.g@elcam.co.il</td>\n",
       "      <td>amotz@elcam.co.il</td>\n",
       "    </tr>\n",
       "  </tbody>\n",
       "</table>\n",
       "</div>"
      ],
      "text/plain": [
       "            DisplayName         EmailAddress       ManagerEmail\n",
       "707   Vanya Dobrovolsky  vanya.d@elcam.co.il  amotz@elcam.co.il\n",
       "755         Idan Naaman   idan.n@elcam.co.il  amotz@elcam.co.il\n",
       "922        Ilan Kachler   ilan.k@elcam.co.il  amotz@elcam.co.il\n",
       "938        Oded Benedik   oded.b@elcam.co.il  amotz@elcam.co.il\n",
       "1116          Ziv Cohen    ziv.c@elcam.co.il  amotz@elcam.co.il\n",
       "1207     Ohad Gottesman   ohad.g@elcam.co.il  amotz@elcam.co.il"
      ]
     },
     "execution_count": 9,
     "metadata": {},
     "output_type": "execute_result"
    }
   ],
   "source": [
    "df2=pd.read_csv(\"kimaat.moshlam.csv\")\n",
    "#remove all the rows that have no email address\n",
    "df2=df2[df2['EmailAddress'].notnull()]\n",
    "#remove all the rows that the email address is not end with @elcam.co.il\n",
    "df2=df2[df2['EmailAddress'].str.endswith('@elcam.co.il')]\n",
    "#convert all the email address to lower case\n",
    "df2['EmailAddress']=df2['EmailAddress'].str.lower()\n",
    "#find the rows that the display name is Gal Einhorn\n",
    "df2[df2['ManagerEmail']=='amotz@elcam.co.il']\n"
   ]
  },
  {
   "cell_type": "code",
   "execution_count": 1,
   "metadata": {},
   "outputs": [
    {
     "ename": "ModuleNotFoundError",
     "evalue": "No module named 'mailer'",
     "output_type": "error",
     "traceback": [
      "\u001b[1;31m---------------------------------------------------------------------------\u001b[0m",
      "\u001b[1;31mModuleNotFoundError\u001b[0m                       Traceback (most recent call last)",
      "\u001b[1;32m~\\AppData\\Local\\Temp\\ipykernel_25688\\1406807958.py\u001b[0m in \u001b[0;36m<module>\u001b[1;34m\u001b[0m\n\u001b[1;32m----> 1\u001b[1;33m \u001b[1;32mfrom\u001b[0m \u001b[0mmailer\u001b[0m \u001b[1;32mimport\u001b[0m \u001b[0mMailer\u001b[0m\u001b[1;33m\u001b[0m\u001b[1;33m\u001b[0m\u001b[0m\n\u001b[0m\u001b[0;32m      2\u001b[0m \u001b[1;32mfrom\u001b[0m \u001b[0mmailer\u001b[0m \u001b[1;32mimport\u001b[0m \u001b[0mMessage\u001b[0m\u001b[1;33m\u001b[0m\u001b[1;33m\u001b[0m\u001b[0m\n\u001b[0;32m      3\u001b[0m \u001b[1;33m\u001b[0m\u001b[0m\n\u001b[0;32m      4\u001b[0m message = Message(From=\"me@example.com\",\n\u001b[0;32m      5\u001b[0m                   \u001b[0mTo\u001b[0m\u001b[1;33m=\u001b[0m\u001b[1;34m\"you@example.com\"\u001b[0m\u001b[1;33m,\u001b[0m\u001b[1;33m\u001b[0m\u001b[1;33m\u001b[0m\u001b[0m\n",
      "\u001b[1;31mModuleNotFoundError\u001b[0m: No module named 'mailer'"
     ]
    }
   ],
   "source": [
    "\n",
    "\n",
    "message = Message(From=\"me@example.com\",\n",
    "                  To=\"you@example.com\",\n",
    "                  charset=\"utf-8\")\n",
    "message.Subject = \"An HTML Email\"\n",
    "message.Html = \"\"\"This email uses <strong>HTML</strong>!\"\"\"\n",
    "message.Body = \"\"\"This is alternate text.\"\"\"\n",
    "\n",
    "sender = Mailer('smtp.example.com')\n",
    "sender.send(message)\n",
    "\n"
   ]
  }
 ],
 "metadata": {
  "kernelspec": {
   "display_name": "base",
   "language": "python",
   "name": "python3"
  },
  "language_info": {
   "codemirror_mode": {
    "name": "ipython",
    "version": 3
   },
   "file_extension": ".py",
   "mimetype": "text/x-python",
   "name": "python",
   "nbconvert_exporter": "python",
   "pygments_lexer": "ipython3",
   "version": "3.9.13"
  },
  "orig_nbformat": 4,
  "vscode": {
   "interpreter": {
    "hash": "3f5489b7472e0db5a0aca474269aa1efb9aed33b7cc21a8c650b51c14ef83b94"
   }
  }
 },
 "nbformat": 4,
 "nbformat_minor": 2
}
