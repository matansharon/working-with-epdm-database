{
 "cells": [
  {
   "cell_type": "code",
   "execution_count": 1,
   "metadata": {},
   "outputs": [],
   "source": [
    "import pandas as pd\n",
    "import numpy as np\n",
    "import pymssql\n",
    "mssql_conn = pymssql.connect(server='epdm', user='sa', password='Pdmepdme1!',database='ePDM_Elcam')"
   ]
  },
  {
   "cell_type": "code",
   "execution_count": null,
   "metadata": {},
   "outputs": [],
   "source": [
    "query='select * from dbo.UserRevs'\n",
    "UserRevs=pd.read_sql(query,mssql_conn)"
   ]
  },
  {
   "cell_type": "code",
   "execution_count": null,
   "metadata": {},
   "outputs": [],
   "source": [
    "query2='select * from dbo.Documents'\n",
    "Documents=pd.read_sql(query2,mssql_conn)\n",
    "Documents"
   ]
  },
  {
   "cell_type": "code",
   "execution_count": null,
   "metadata": {},
   "outputs": [],
   "source": [
    "q='select * from dbo.Status'\n",
    "status=pd.read_sql(q,mssql_conn)\n",
    "doc_status=pd.merge(Documents,status,left_on='CurrentStatusID',right_on='StatusID')\n",
    "doc_status\n",
    "# doc+status"
   ]
  },
  {
   "cell_type": "code",
   "execution_count": null,
   "metadata": {},
   "outputs": [],
   "source": [
    "q=\"\"\"select Filename  ,s.Name ,ur.Comment \n",
    "from Documents d \n",
    "full join Status s on s.StatusID =d.CurrentStatusID \n",
    "full join UserRevs ur on d.DocumentID =ur.DocumentID \n",
    "where Filename like '%.sldprt' or Filename like '%.slddrw%'\"\"\"\n",
    "df=pd.read_sql(q,mssql_conn)\n",
    "#drop all rows where the comment is None\n",
    "\n",
    "df"
   ]
  },
  {
   "cell_type": "code",
   "execution_count": null,
   "metadata": {},
   "outputs": [],
   "source": [
    "query3=\"\"\"SELECT DISTINCT ValueCache\n",
    "FROM VariableValue VV\n",
    "\n",
    "INNER JOIN\n",
    "\n",
    "(SELECT DocumentID, ConfigurationID, VariableID, MAX(RevisionNo) AS RevMax\n",
    "\n",
    "FROM VariableValue\n",
    "WHERE VariableID=(SELECT VariableID FROM Variable WHERE VariableName= 'PrcdrOrderNum&Subject')\n",
    "GROUP BY DocumentID,ConfigurationID,VariableID) T\n",
    "\n",
    "ON VV.DocumentID=T.DocumentID\n",
    "AND VV.ConfigurationID=T.ConfigurationID\n",
    "AND VV.VariableID=T.VariableID\n",
    "AND VV.RevisionNo=T.RevMax\n",
    "And VV.ValueCache != ''\n",
    "\n",
    "INNER JOIN\n",
    "\n",
    "(SELECT D.DocumentID\n",
    "FROM Projects P,\n",
    "          DocumentsInProjects P1,\n",
    "          Documents D,\n",
    "          Revisions R,\n",
    "          Status S,\n",
    "          FileExtension E\n",
    "WHERE P1.ProjectID=P.ProjectID AND\n",
    "\t  P1.DocumentID=D.DocumentID AND \n",
    "\t  P.Path LIKE '%' AND\n",
    "\t  D.DocumentID=R.DocumentID AND\n",
    "D.DocumentID!=55910 AND\n",
    "\t  D.Filename LIKE '%'AND\n",
    "\t  E.ExtensionID=D.ExtensionID AND\n",
    "\t  R.RevNr=D.LatestRevisionNo AND\n",
    "\t  D.CurrentStatusID=S.StatusID AND\n",
    "\t  S.Name NOT IN ('Obsolete') AND\n",
    "\t  D.Deleted='FALSE') Z\n",
    "\n",
    "ON VV.DocumentID=Z.DocumentID\n",
    "\n",
    "ORDER BY ValueCache\n",
    "\"\"\"\n",
    "\n"
   ]
  },
  {
   "cell_type": "code",
   "execution_count": null,
   "metadata": {},
   "outputs": [],
   "source": [
    "res=pd.read_csv('test1.csv')\n",
    "for i in range(len(res)):\n",
    "    row=res.iloc[i]\n",
    "    print(row['ValueCache'])\n",
    "# res.to_csv('test1.csv',index=False)"
   ]
  },
  {
   "cell_type": "code",
   "execution_count": null,
   "metadata": {},
   "outputs": [],
   "source": [
    "# q1=\"select * from VariableValue\"\n",
    "# q2=\"select * from Variable\"\n",
    "# VV=pd.read_sql(q1,mssql_conn)\n",
    "# V=pd.read_sql(q2,mssql_conn)\n"
   ]
  },
  {
   "cell_type": "code",
   "execution_count": null,
   "metadata": {},
   "outputs": [],
   "source": [
    "# tempV=V.to_csv('tempV.csv',index=False)\n",
    "# tempVV=VV.to_csv('tempVV.csv',index=False)"
   ]
  },
  {
   "cell_type": "code",
   "execution_count": null,
   "metadata": {},
   "outputs": [],
   "source": [
    "v=pd.read_csv('tempV.csv')\n",
    "vv=pd.read_csv('tempVV.csv')\n"
   ]
  },
  {
   "cell_type": "code",
   "execution_count": null,
   "metadata": {},
   "outputs": [],
   "source": [
    "all_vars_ids=set(v['VariableID'])\n",
    "all_vars_values_ids=set(vv['VariableID'])\n"
   ]
  },
  {
   "cell_type": "code",
   "execution_count": null,
   "metadata": {},
   "outputs": [],
   "source": [
    "diff=all_vars_ids-all_vars_values_ids\n",
    "res={}\n",
    "for i in diff:\n",
    "    if i>44:\n",
    "        res[i]=v[v['VariableID']==i]['VariableName'].iloc[0]\n",
    "res=pd.DataFrame({'VariableID':list(res.keys()),'VariableName':list(res.values())})\n",
    "res.to_csv('res.csv',index=False)\n",
    "res"
   ]
  },
  {
   "cell_type": "code",
   "execution_count": null,
   "metadata": {},
   "outputs": [],
   "source": [
    "q=\"select * from CardListValues\"\n",
    "card_list_values=pd.read_sql(q,mssql_conn)\n"
   ]
  },
  {
   "cell_type": "code",
   "execution_count": null,
   "metadata": {},
   "outputs": [],
   "source": [
    "all_ids_values_in_card=set(card_list_values['CardListId'])\n",
    "print(card_list_values[card_list_values['CardListId']==1275]['Value'].iloc[0])"
   ]
  }
 ],
 "metadata": {
  "kernelspec": {
   "display_name": "base",
   "language": "python",
   "name": "python3"
  },
  "language_info": {
   "codemirror_mode": {
    "name": "ipython",
    "version": 3
   },
   "file_extension": ".py",
   "mimetype": "text/x-python",
   "name": "python",
   "nbconvert_exporter": "python",
   "pygments_lexer": "ipython3",
   "version": "3.9.13"
  },
  "orig_nbformat": 4,
  "vscode": {
   "interpreter": {
    "hash": "3f5489b7472e0db5a0aca474269aa1efb9aed33b7cc21a8c650b51c14ef83b94"
   }
  }
 },
 "nbformat": 4,
 "nbformat_minor": 2
}
