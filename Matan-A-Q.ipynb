{
 "cells": [
  {
   "cell_type": "code",
   "execution_count": 2,
   "metadata": {},
   "outputs": [],
   "source": [
    "import pandas as pd\n",
    "import numpy as np\n",
    "import pymssql\n",
    "mssql_conn = pymssql.connect(server='epdm', user='sa', password='Pdmepdme1!',database='ePDM_Elcam')"
   ]
  },
  {
   "cell_type": "code",
   "execution_count": null,
   "metadata": {},
   "outputs": [],
   "source": [
    "query='select * from dbo.UserRevs'\n",
    "UserRevs=pd.read_sql(query,mssql_conn)"
   ]
  },
  {
   "cell_type": "code",
   "execution_count": null,
   "metadata": {},
   "outputs": [],
   "source": [
    "query2='select * from dbo.Documents'\n",
    "Documents=pd.read_sql(query2,mssql_conn)\n",
    "Documents"
   ]
  },
  {
   "cell_type": "code",
   "execution_count": null,
   "metadata": {},
   "outputs": [],
   "source": [
    "q='select * from dbo.Status'\n",
    "status=pd.read_sql(q,mssql_conn)\n",
    "doc_status=pd.merge(Documents,status,left_on='CurrentStatusID',right_on='StatusID')\n",
    "doc_status\n",
    "# doc+status"
   ]
  },
  {
   "cell_type": "code",
   "execution_count": null,
   "metadata": {},
   "outputs": [],
   "source": [
    "q=\"\"\"select Filename  ,s.Name ,ur.Comment \n",
    "from Documents d \n",
    "full join Status s on s.StatusID =d.CurrentStatusID \n",
    "full join UserRevs ur on d.DocumentID =ur.DocumentID \n",
    "where Filename like '%.sldprt' or Filename like '%.slddrw%'\"\"\"\n",
    "df=pd.read_sql(q,mssql_conn)\n",
    "#drop all rows where the comment is None\n",
    "\n",
    "df"
   ]
  },
  {
   "cell_type": "code",
   "execution_count": null,
   "metadata": {},
   "outputs": [],
   "source": [
    "query3=\"\"\"SELECT DISTINCT ValueCache\n",
    "FROM VariableValue VV\n",
    "\n",
    "INNER JOIN\n",
    "\n",
    "(SELECT DocumentID, ConfigurationID, VariableID, MAX(RevisionNo) AS RevMax\n",
    "\n",
    "FROM VariableValue\n",
    "WHERE VariableID=(SELECT VariableID FROM Variable WHERE VariableName= 'PrcdrOrderNum&Subject')\n",
    "GROUP BY DocumentID,ConfigurationID,VariableID) T\n",
    "\n",
    "ON VV.DocumentID=T.DocumentID\n",
    "AND VV.ConfigurationID=T.ConfigurationID\n",
    "AND VV.VariableID=T.VariableID\n",
    "AND VV.RevisionNo=T.RevMax\n",
    "And VV.ValueCache != ''\n",
    "\n",
    "INNER JOIN\n",
    "\n",
    "(SELECT D.DocumentID\n",
    "FROM Projects P,\n",
    "          DocumentsInProjects P1,\n",
    "          Documents D,\n",
    "          Revisions R,\n",
    "          Status S,\n",
    "          FileExtension E\n",
    "WHERE P1.ProjectID=P.ProjectID AND\n",
    "\t  P1.DocumentID=D.DocumentID AND \n",
    "\t  P.Path LIKE '%' AND\n",
    "\t  D.DocumentID=R.DocumentID AND\n",
    "D.DocumentID!=55910 AND\n",
    "\t  D.Filename LIKE '%'AND\n",
    "\t  E.ExtensionID=D.ExtensionID AND\n",
    "\t  R.RevNr=D.LatestRevisionNo AND\n",
    "\t  D.CurrentStatusID=S.StatusID AND\n",
    "\t  S.Name NOT IN ('Obsolete') AND\n",
    "\t  D.Deleted='FALSE') Z\n",
    "\n",
    "ON VV.DocumentID=Z.DocumentID\n",
    "\n",
    "ORDER BY ValueCache\n",
    "\"\"\"\n",
    "\n"
   ]
  },
  {
   "cell_type": "code",
   "execution_count": null,
   "metadata": {},
   "outputs": [],
   "source": [
    "res=pd.read_csv('test1.csv')\n",
    "for i in range(len(res)):\n",
    "    row=res.iloc[i]\n",
    "    print(row['ValueCache'])\n",
    "# res.to_csv('test1.csv',index=False)"
   ]
  },
  {
   "cell_type": "code",
   "execution_count": 3,
   "metadata": {},
   "outputs": [
    {
     "name": "stderr",
     "output_type": "stream",
     "text": [
      "c:\\Users\\matan.s\\Anaconda3\\lib\\site-packages\\pandas\\io\\sql.py:762: UserWarning: pandas only support SQLAlchemy connectable(engine/connection) ordatabase string URI or sqlite3 DBAPI2 connectionother DBAPI2 objects are not tested, please consider using SQLAlchemy\n",
      "  warnings.warn(\n",
      "c:\\Users\\matan.s\\Anaconda3\\lib\\site-packages\\pandas\\io\\sql.py:762: UserWarning: pandas only support SQLAlchemy connectable(engine/connection) ordatabase string URI or sqlite3 DBAPI2 connectionother DBAPI2 objects are not tested, please consider using SQLAlchemy\n",
      "  warnings.warn(\n"
     ]
    }
   ],
   "source": [
    "# q1=\"select * from VariableValue\"\n",
    "# q2=\"select * from Variable\"\n",
    "# VV=pd.read_sql(q1,mssql_conn)\n",
    "# V=pd.read_sql(q2,mssql_conn)\n"
   ]
  },
  {
   "cell_type": "code",
   "execution_count": 6,
   "metadata": {},
   "outputs": [],
   "source": [
    "# tempV=V.to_csv('tempV.csv',index=False)\n",
    "# tempVV=VV.to_csv('tempVV.csv',index=False)"
   ]
  },
  {
   "cell_type": "code",
   "execution_count": 8,
   "metadata": {},
   "outputs": [],
   "source": [
    "v=pd.read_csv('tempV.csv')\n",
    "vv=pd.read_csv('tempVV.csv')\n"
   ]
  },
  {
   "cell_type": "code",
   "execution_count": 21,
   "metadata": {},
   "outputs": [
    {
     "data": {
      "text/plain": [
       "1504"
      ]
     },
     "execution_count": 21,
     "metadata": {},
     "output_type": "execute_result"
    }
   ],
   "source": [
    "all_vars_ids=set(v['VariableID'])\n",
    "all_vars_values_ids=set(vv['VariableID'])\n"
   ]
  },
  {
   "cell_type": "code",
   "execution_count": 30,
   "metadata": {},
   "outputs": [
    {
     "data": {
      "text/html": [
       "<div>\n",
       "<style scoped>\n",
       "    .dataframe tbody tr th:only-of-type {\n",
       "        vertical-align: middle;\n",
       "    }\n",
       "\n",
       "    .dataframe tbody tr th {\n",
       "        vertical-align: top;\n",
       "    }\n",
       "\n",
       "    .dataframe thead th {\n",
       "        text-align: right;\n",
       "    }\n",
       "</style>\n",
       "<table border=\"1\" class=\"dataframe\">\n",
       "  <thead>\n",
       "    <tr style=\"text-align: right;\">\n",
       "      <th></th>\n",
       "      <th>VariableID</th>\n",
       "      <th>VariableName</th>\n",
       "    </tr>\n",
       "  </thead>\n",
       "  <tbody>\n",
       "    <tr>\n",
       "      <th>0</th>\n",
       "      <td>555</td>\n",
       "      <td>testDocumentAuthor</td>\n",
       "    </tr>\n",
       "    <tr>\n",
       "      <th>1</th>\n",
       "      <td>556</td>\n",
       "      <td>DevLocation</td>\n",
       "    </tr>\n",
       "    <tr>\n",
       "      <th>2</th>\n",
       "      <td>1062</td>\n",
       "      <td>MPCAMDate</td>\n",
       "    </tr>\n",
       "    <tr>\n",
       "      <th>3</th>\n",
       "      <td>1067</td>\n",
       "      <td>SCPDocType</td>\n",
       "    </tr>\n",
       "    <tr>\n",
       "      <th>4</th>\n",
       "      <td>1029</td>\n",
       "      <td>MSPDdateTemplate</td>\n",
       "    </tr>\n",
       "    <tr>\n",
       "      <th>...</th>\n",
       "      <td>...</td>\n",
       "      <td>...</td>\n",
       "    </tr>\n",
       "    <tr>\n",
       "      <th>220</th>\n",
       "      <td>1503</td>\n",
       "      <td>QEManagerDate</td>\n",
       "    </tr>\n",
       "    <tr>\n",
       "      <th>221</th>\n",
       "      <td>1504</td>\n",
       "      <td>QEManagerApproved</td>\n",
       "    </tr>\n",
       "    <tr>\n",
       "      <th>222</th>\n",
       "      <td>484</td>\n",
       "      <td>1_4_Logistic CoordinatorYesNo_1</td>\n",
       "    </tr>\n",
       "    <tr>\n",
       "      <th>223</th>\n",
       "      <td>498</td>\n",
       "      <td>ValNameOf ValidateExecutor</td>\n",
       "    </tr>\n",
       "    <tr>\n",
       "      <th>224</th>\n",
       "      <td>1022</td>\n",
       "      <td>MSPMChosee</td>\n",
       "    </tr>\n",
       "  </tbody>\n",
       "</table>\n",
       "<p>225 rows × 2 columns</p>\n",
       "</div>"
      ],
      "text/plain": [
       "     VariableID                     VariableName\n",
       "0           555               testDocumentAuthor\n",
       "1           556                      DevLocation\n",
       "2          1062                        MPCAMDate\n",
       "3          1067                       SCPDocType\n",
       "4          1029                 MSPDdateTemplate\n",
       "..          ...                              ...\n",
       "220        1503                    QEManagerDate\n",
       "221        1504                QEManagerApproved\n",
       "222         484  1_4_Logistic CoordinatorYesNo_1\n",
       "223         498       ValNameOf ValidateExecutor\n",
       "224        1022                       MSPMChosee\n",
       "\n",
       "[225 rows x 2 columns]"
      ]
     },
     "execution_count": 30,
     "metadata": {},
     "output_type": "execute_result"
    }
   ],
   "source": [
    "diff=all_vars_ids-all_vars_values_ids\n",
    "res={}\n",
    "for i in diff:\n",
    "    if i>44:\n",
    "        res[i]=v[v['VariableID']==i]['VariableName'].iloc[0]\n",
    "res=pd.DataFrame({'VariableID':list(res.keys()),'VariableName':list(res.values())})\n",
    "res.to_csv('res.csv',index=False)\n",
    "res"
   ]
  }
 ],
 "metadata": {
  "kernelspec": {
   "display_name": "base",
   "language": "python",
   "name": "python3"
  },
  "language_info": {
   "codemirror_mode": {
    "name": "ipython",
    "version": 3
   },
   "file_extension": ".py",
   "mimetype": "text/x-python",
   "name": "python",
   "nbconvert_exporter": "python",
   "pygments_lexer": "ipython3",
   "version": "3.9.13"
  },
  "orig_nbformat": 4,
  "vscode": {
   "interpreter": {
    "hash": "3f5489b7472e0db5a0aca474269aa1efb9aed33b7cc21a8c650b51c14ef83b94"
   }
  }
 },
 "nbformat": 4,
 "nbformat_minor": 2
}
